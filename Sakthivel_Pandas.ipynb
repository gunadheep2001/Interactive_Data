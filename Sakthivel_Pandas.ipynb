{
 "cells": [
  {
   "cell_type": "code",
   "execution_count": 1,
   "id": "318f2493",
   "metadata": {},
   "outputs": [],
   "source": [
    "#importing pandas\n",
    "import pandas as pd"
   ]
  },
  {
   "cell_type": "code",
   "execution_count": 2,
   "id": "3344cbba",
   "metadata": {},
   "outputs": [],
   "source": [
    "# Create a DataFrame with three columns and three rows\n",
    "data={'S no':[1,2,3],\n",
    "      'Name':['Guna','Krishna','Agu'],\n",
    "      'Grade':[4.0,3.4,3.7]}"
   ]
  },
  {
   "cell_type": "code",
   "execution_count": 3,
   "id": "0bf0ae39",
   "metadata": {},
   "outputs": [],
   "source": [
    "df=pd.DataFrame(data)"
   ]
  },
  {
   "cell_type": "code",
   "execution_count": 4,
   "id": "428b7ad2",
   "metadata": {},
   "outputs": [
    {
     "data": {
      "text/html": [
       "<div>\n",
       "<style scoped>\n",
       "    .dataframe tbody tr th:only-of-type {\n",
       "        vertical-align: middle;\n",
       "    }\n",
       "\n",
       "    .dataframe tbody tr th {\n",
       "        vertical-align: top;\n",
       "    }\n",
       "\n",
       "    .dataframe thead th {\n",
       "        text-align: right;\n",
       "    }\n",
       "</style>\n",
       "<table border=\"1\" class=\"dataframe\">\n",
       "  <thead>\n",
       "    <tr style=\"text-align: right;\">\n",
       "      <th></th>\n",
       "      <th>S no</th>\n",
       "      <th>Name</th>\n",
       "      <th>Grade</th>\n",
       "    </tr>\n",
       "  </thead>\n",
       "  <tbody>\n",
       "    <tr>\n",
       "      <th>0</th>\n",
       "      <td>1</td>\n",
       "      <td>Guna</td>\n",
       "      <td>4.0</td>\n",
       "    </tr>\n",
       "    <tr>\n",
       "      <th>1</th>\n",
       "      <td>2</td>\n",
       "      <td>Krishna</td>\n",
       "      <td>3.4</td>\n",
       "    </tr>\n",
       "    <tr>\n",
       "      <th>2</th>\n",
       "      <td>3</td>\n",
       "      <td>Agu</td>\n",
       "      <td>3.7</td>\n",
       "    </tr>\n",
       "  </tbody>\n",
       "</table>\n",
       "</div>"
      ],
      "text/plain": [
       "   S no     Name  Grade\n",
       "0     1     Guna    4.0\n",
       "1     2  Krishna    3.4\n",
       "2     3      Agu    3.7"
      ]
     },
     "execution_count": 4,
     "metadata": {},
     "output_type": "execute_result"
    }
   ],
   "source": [
    "# head of the DataFrame\n",
    "df.head()"
   ]
  },
  {
   "cell_type": "code",
   "execution_count": 5,
   "id": "e11e3f1d",
   "metadata": {},
   "outputs": [
    {
     "data": {
      "text/plain": [
       "RangeIndex(start=0, stop=3, step=1)"
      ]
     },
     "execution_count": 5,
     "metadata": {},
     "output_type": "execute_result"
    }
   ],
   "source": [
    "# Index of the DataFrame\n",
    "df.index"
   ]
  },
  {
   "cell_type": "code",
   "execution_count": 6,
   "id": "c397dd82",
   "metadata": {},
   "outputs": [
    {
     "data": {
      "text/plain": [
       "0    1\n",
       "1    2\n",
       "2    3\n",
       "Name: S no, dtype: int64"
      ]
     },
     "execution_count": 6,
     "metadata": {},
     "output_type": "execute_result"
    }
   ],
   "source": [
    "# The first column of the DataFrame\n",
    "df['S no']"
   ]
  },
  {
   "cell_type": "code",
   "execution_count": 7,
   "id": "f4f3eb65",
   "metadata": {},
   "outputs": [
    {
     "data": {
      "text/plain": [
       "S no        1\n",
       "Name     Guna\n",
       "Grade     4.0\n",
       "Name: 0, dtype: object"
      ]
     },
     "execution_count": 7,
     "metadata": {},
     "output_type": "execute_result"
    }
   ],
   "source": [
    "# The first row of the DataFrame\n",
    "df.loc[0]"
   ]
  },
  {
   "cell_type": "code",
   "execution_count": 8,
   "id": "36f9b2b6",
   "metadata": {},
   "outputs": [],
   "source": [
    "# Write the DataFrame to a new CSV file\n",
    "df.to_csv('grades.csv', index=False)"
   ]
  },
  {
   "cell_type": "markdown",
   "id": "f3bd7dad",
   "metadata": {},
   "source": [
    "**Question**: Why are dynamic, interactive data visualizations useful when communicating data? \\\n",
    "**Answer**:Dynamic and interactive data visualizations are helpful for expressing data because they give the audience a stimulating and inquisitive experience, according to Murray's (2017) Chapter 1. Conventional static representations might not enable users to engage with and explore various elements of the information or fully capture the intricacy of the data.\n",
    "\n",
    "Users can work with the data, focus on certain details, and see changes in real time with dynamic visualizations. By enabling the audience to personalize their investigation, this interactivity improves knowledge and fosters a deeper understanding of the data being given. Because users can concentrate on the details that are most pertinent to their interests or inquiries, interactive visualizations are especially useful when working with huge datasets or intricate relationships."
   ]
  },
  {
   "cell_type": "code",
   "execution_count": null,
   "id": "48e09eb8",
   "metadata": {},
   "outputs": [],
   "source": []
  }
 ],
 "metadata": {
  "kernelspec": {
   "display_name": "Python 3 (ipykernel)",
   "language": "python",
   "name": "python3"
  },
  "language_info": {
   "codemirror_mode": {
    "name": "ipython",
    "version": 3
   },
   "file_extension": ".py",
   "mimetype": "text/x-python",
   "name": "python",
   "nbconvert_exporter": "python",
   "pygments_lexer": "ipython3",
   "version": "3.10.13"
  }
 },
 "nbformat": 4,
 "nbformat_minor": 5
}
